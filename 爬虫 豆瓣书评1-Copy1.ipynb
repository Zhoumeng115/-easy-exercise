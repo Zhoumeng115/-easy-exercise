{
 "cells": [
  {
   "cell_type": "markdown",
   "metadata": {},
   "source": [
    "# 爬取豆瓣书评--基于lxml库"
   ]
  },
  {
   "cell_type": "markdown",
   "metadata": {},
   "source": [
    "## 一、一本书一个页面上的评论爬取"
   ]
  },
  {
   "cell_type": "markdown",
   "metadata": {},
   "source": [
    "#### Step1：请求访问网址并拿回网址的信息"
   ]
  },
  {
   "cell_type": "code",
   "execution_count": 2,
   "metadata": {},
   "outputs": [
    {
     "data": {
      "text/plain": [
       "200"
      ]
     },
     "execution_count": 2,
     "metadata": {},
     "output_type": "execute_result"
    }
   ],
   "source": [
    "##需要安装的库\n",
    "import sys\n",
    "import requests\n",
    "import time\n",
    "##请求访问网址\n",
    "url='https://book.douban.com/subject/26954760/comments/hot?p=1'\n",
    "headers = {\n",
    "    'User-Agent':'Mozilla/5.0 (Windows NT 10.0; Win64; x64; rv:57.0) Gecko/20100101 Firefox/57.0',\n",
    "}\n",
    "data=requests.get(url,headers=headers)\n",
    "data.status_code"
   ]
  },
  {
   "cell_type": "code",
   "execution_count": 75,
   "metadata": {},
   "outputs": [
    {
     "data": {
      "text/plain": [
       "'utf-8'"
      ]
     },
     "execution_count": 75,
     "metadata": {},
     "output_type": "execute_result"
    }
   ],
   "source": [
    "##查看编码的格式\n",
    "data.encoding"
   ]
  },
  {
   "cell_type": "markdown",
   "metadata": {},
   "source": [
    "#### Step2：网址内容解析"
   ]
  },
  {
   "cell_type": "code",
   "execution_count": 76,
   "metadata": {},
   "outputs": [],
   "source": [
    "##使用lxml库解析\n",
    "##lxml库可以通过Xpath路径来定位节点位置\n",
    "from lxml import etree\n",
    "selector=etree.HTML(data.text)##selector是一个可以对etree进行选择的选择器"
   ]
  },
  {
   "cell_type": "code",
   "execution_count": 191,
   "metadata": {},
   "outputs": [],
   "source": [
    "#抽取所有评论区域\n",
    "comments=selector.xpath('//div[@class=\"comment\"]')"
   ]
  },
  {
   "cell_type": "code",
   "execution_count": 194,
   "metadata": {},
   "outputs": [],
   "source": [
    "#对评论区域进行解析\n",
    "users=[]\n",
    "stars=[]\n",
    "comment_texts=[]\n",
    "#遍历\n",
    "for comment in comments:\n",
    "    user = comment.xpath(\".//h3/span[2]/a/text()\")[0]\n",
    "    star = comment.xpath(\".//h3/span[2]/span[1]/@class\")\n",
    "    comment_text = comment.xpath(\".//p[@class='comment-content']/span/text()\")[0].strip()\n",
    "    \n",
    "    users.append(user)\n",
    "    stars.append(star)\n",
    "    comment_texts.append(comment_text)\n",
    "comment_dic = {'user':users , 'srar':stars , 'comments':comment_texts} "
   ]
  },
  {
   "cell_type": "code",
   "execution_count": 192,
   "metadata": {},
   "outputs": [
    {
     "data": {
      "text/plain": [
       "'user-stars allstar50 rating'"
      ]
     },
     "execution_count": 192,
     "metadata": {},
     "output_type": "execute_result"
    }
   ],
   "source": [
    "##在循环前看看自己的位置有没有找对  \n",
    "##有bug  \n",
    "tep = comments[0]\n",
    "tep.xpath(\".//h3/span[2]/span[1]/@class\")[0]\n",
    "#print(tep.xpath(\".//h3/span[2]/a/text()\")[0])\n",
    "#print(tep.xpath(\".//p[@class='comment-content']/span/text()\")[0].strip())"
   ]
  },
  {
   "cell_type": "markdown",
   "metadata": {},
   "source": [
    "#### Step3：整理数据"
   ]
  },
  {
   "cell_type": "code",
   "execution_count": 195,
   "metadata": {},
   "outputs": [],
   "source": [
    "##整理数据\n",
    "import pandas as pd\n",
    "comments_df = pd.DataFrame(comment_dic)"
   ]
  },
  {
   "cell_type": "code",
   "execution_count": 197,
   "metadata": {},
   "outputs": [
    {
     "data": {
      "text/html": [
       "<div>\n",
       "<style scoped>\n",
       "    .dataframe tbody tr th:only-of-type {\n",
       "        vertical-align: middle;\n",
       "    }\n",
       "\n",
       "    .dataframe tbody tr th {\n",
       "        vertical-align: top;\n",
       "    }\n",
       "\n",
       "    .dataframe thead th {\n",
       "        text-align: right;\n",
       "    }\n",
       "</style>\n",
       "<table border=\"1\" class=\"dataframe\">\n",
       "  <thead>\n",
       "    <tr style=\"text-align: right;\">\n",
       "      <th></th>\n",
       "      <th>user</th>\n",
       "      <th>srar</th>\n",
       "      <th>comments</th>\n",
       "    </tr>\n",
       "  </thead>\n",
       "  <tbody>\n",
       "    <tr>\n",
       "      <th>0</th>\n",
       "      <td>辣辣周</td>\n",
       "      <td>[user-stars allstar50 rating]</td>\n",
       "      <td>听说读完这本书的人，都辞职了。我的领导看到我手里的书，如是说。</td>\n",
       "    </tr>\n",
       "    <tr>\n",
       "      <th>1</th>\n",
       "      <td>蘅霜</td>\n",
       "      <td>[user-stars allstar50 rating]</td>\n",
       "      <td>斯特里兰克夫人的爱掺杂着虚荣，布兰奇的爱出于自我与报复，唯有阿塔与塔希提岛的海风，才容得下纯...</td>\n",
       "    </tr>\n",
       "    <tr>\n",
       "      <th>2</th>\n",
       "      <td>面白饭Θ☉Θ</td>\n",
       "      <td>[user-stars allstar50 rating]</td>\n",
       "      <td>怀着感恩和虔诚的心，凌晨六点零六分读完这本书。羡慕里面所有追求梦想，内心坚定的人，甚至羡慕那...</td>\n",
       "    </tr>\n",
       "    <tr>\n",
       "      <th>3</th>\n",
       "      <td>A</td>\n",
       "      <td>[user-stars allstar50 rating]</td>\n",
       "      <td>然后我就又看了一遍 看到快哭了都！ ps这个版本翻译的极好</td>\n",
       "    </tr>\n",
       "    <tr>\n",
       "      <th>4</th>\n",
       "      <td>LIVANTO</td>\n",
       "      <td>[user-stars allstar20 rating]</td>\n",
       "      <td>一个傻逼艺术家到处给人添麻烦，以及他无辜朋友们的故事。这个三观太不正了。翻译还不错。</td>\n",
       "    </tr>\n",
       "    <tr>\n",
       "      <th>5</th>\n",
       "      <td>洋艾</td>\n",
       "      <td>[user-stars allstar30 rating]</td>\n",
       "      <td>或许，六便士是地上的月亮呢</td>\n",
       "    </tr>\n",
       "  </tbody>\n",
       "</table>\n",
       "</div>"
      ],
      "text/plain": [
       "      user                           srar  \\\n",
       "0      辣辣周  [user-stars allstar50 rating]   \n",
       "1       蘅霜  [user-stars allstar50 rating]   \n",
       "2   面白饭Θ☉Θ  [user-stars allstar50 rating]   \n",
       "3        A  [user-stars allstar50 rating]   \n",
       "4  LIVANTO  [user-stars allstar20 rating]   \n",
       "5       洋艾  [user-stars allstar30 rating]   \n",
       "\n",
       "                                            comments  \n",
       "0                    听说读完这本书的人，都辞职了。我的领导看到我手里的书，如是说。  \n",
       "1  斯特里兰克夫人的爱掺杂着虚荣，布兰奇的爱出于自我与报复，唯有阿塔与塔希提岛的海风，才容得下纯...  \n",
       "2  怀着感恩和虔诚的心，凌晨六点零六分读完这本书。羡慕里面所有追求梦想，内心坚定的人，甚至羡慕那...  \n",
       "3                      然后我就又看了一遍 看到快哭了都！ ps这个版本翻译的极好  \n",
       "4         一个傻逼艺术家到处给人添麻烦，以及他无辜朋友们的故事。这个三观太不正了。翻译还不错。  \n",
       "5                                      或许，六便士是地上的月亮呢  "
      ]
     },
     "execution_count": 197,
     "metadata": {},
     "output_type": "execute_result"
    }
   ],
   "source": [
    "comments_df[0:6]"
   ]
  },
  {
   "cell_type": "markdown",
   "metadata": {},
   "source": [
    "## 二、一本书的书评在多个网页上的爬取"
   ]
  },
  {
   "cell_type": "markdown",
   "metadata": {},
   "source": [
    "#### Step1：请求网页（多个页面），取回并且合并页面信息"
   ]
  },
  {
   "cell_type": "code",
   "execution_count": 16,
   "metadata": {},
   "outputs": [],
   "source": [
    "##所以需要设置翻页\n",
    "url=\"https://book.douban.com/subject/26954760/comments/\"  ##固定的部分\n",
    "page=('hot?p=')\n",
    "headers = {\n",
    "    'User-Agent':'Mozilla/5.0 (Windows NT 10.0; Win64; x64; rv:57.0) Gecko/20100101 Firefox/57.0',\n",
    "}\n",
    "##循环去遍历\n",
    "for i in range(1,20):\n",
    "    if i == 1:\n",
    "        i=str(i)\n",
    "        a=(url+page+i+'/')\n",
    "        r=requests.get(url=a,headers=headers)\n",
    "        data=r.text\n",
    "    else:\n",
    "        i=str(i)\n",
    "        a=(url+page+i)\n",
    "        r=requests.get(url=a,headers=headers)\n",
    "        data2=r.text\n",
    "        data=data+data2\n",
    "    time.sleep(3)##设置就是访问页面的时间，若设置时间太短，IP会被封掉"
   ]
  },
  {
   "cell_type": "code",
   "execution_count": 17,
   "metadata": {},
   "outputs": [
    {
     "name": "stdout",
     "output_type": "stream",
     "text": [
      "https://book.douban.com/subject/26954760/comments/hot?p=19\n"
     ]
    }
   ],
   "source": [
    "print(a)"
   ]
  },
  {
   "cell_type": "markdown",
   "metadata": {},
   "source": [
    "###### 注：因为每次访问网页的时需要耗费时间的，所以我这里只在循环中合并网页内容，不在循环中做筛选"
   ]
  },
  {
   "cell_type": "markdown",
   "metadata": {},
   "source": [
    "#### Step2：网址内容解析"
   ]
  },
  {
   "cell_type": "code",
   "execution_count": 18,
   "metadata": {},
   "outputs": [],
   "source": [
    "##然后重复上面的步骤\n",
    "selector=etree.HTML(data)\n",
    "comments=selector.xpath('//div[@class=\"comment\"]')\n",
    "#对评论区域进行解析\n",
    "users=[]\n",
    "stars=[]\n",
    "comment_texts=[]\n",
    "#遍历\n",
    "for comment in comments:\n",
    "    user = comment.xpath(\".//h3/span[2]/a/text()\")[0]\n",
    "    star = comment.xpath(\".//h3/span[2]/span[1]/@class\")\n",
    "    comment_text = comment.xpath(\".//p[@class='comment-content']/span/text()\")[0].strip()\n",
    "    \n",
    "    users.append(user)\n",
    "    stars.append(star)\n",
    "    comment_texts.append(comment_text)\n",
    "comment_dic = {'user':users , 'srar':stars , 'comments':comment_texts} "
   ]
  },
  {
   "cell_type": "markdown",
   "metadata": {},
   "source": [
    "#### Step3：整理数据"
   ]
  },
  {
   "cell_type": "code",
   "execution_count": 19,
   "metadata": {},
   "outputs": [
    {
     "data": {
      "text/html": [
       "<div>\n",
       "<style scoped>\n",
       "    .dataframe tbody tr th:only-of-type {\n",
       "        vertical-align: middle;\n",
       "    }\n",
       "\n",
       "    .dataframe tbody tr th {\n",
       "        vertical-align: top;\n",
       "    }\n",
       "\n",
       "    .dataframe thead th {\n",
       "        text-align: right;\n",
       "    }\n",
       "</style>\n",
       "<table border=\"1\" class=\"dataframe\">\n",
       "  <thead>\n",
       "    <tr style=\"text-align: right;\">\n",
       "      <th></th>\n",
       "      <th>user</th>\n",
       "      <th>srar</th>\n",
       "      <th>comments</th>\n",
       "    </tr>\n",
       "  </thead>\n",
       "  <tbody>\n",
       "    <tr>\n",
       "      <th>0</th>\n",
       "      <td>辣辣周</td>\n",
       "      <td>[user-stars allstar50 rating]</td>\n",
       "      <td>听说读完这本书的人，都辞职了。我的领导看到我手里的书，如是说。</td>\n",
       "    </tr>\n",
       "    <tr>\n",
       "      <th>1</th>\n",
       "      <td>蘅霜</td>\n",
       "      <td>[user-stars allstar50 rating]</td>\n",
       "      <td>斯特里兰克夫人的爱掺杂着虚荣，布兰奇的爱出于自我与报复，唯有阿塔与塔希提岛的海风，才容得下纯...</td>\n",
       "    </tr>\n",
       "    <tr>\n",
       "      <th>2</th>\n",
       "      <td>面白饭Θ☉Θ</td>\n",
       "      <td>[user-stars allstar50 rating]</td>\n",
       "      <td>怀着感恩和虔诚的心，凌晨六点零六分读完这本书。羡慕里面所有追求梦想，内心坚定的人，甚至羡慕那...</td>\n",
       "    </tr>\n",
       "    <tr>\n",
       "      <th>3</th>\n",
       "      <td>A</td>\n",
       "      <td>[user-stars allstar50 rating]</td>\n",
       "      <td>然后我就又看了一遍 看到快哭了都！ ps这个版本翻译的极好</td>\n",
       "    </tr>\n",
       "    <tr>\n",
       "      <th>4</th>\n",
       "      <td>LIVANTO</td>\n",
       "      <td>[user-stars allstar20 rating]</td>\n",
       "      <td>一个傻逼艺术家到处给人添麻烦，以及他无辜朋友们的故事。这个三观太不正了。翻译还不错。</td>\n",
       "    </tr>\n",
       "    <tr>\n",
       "      <th>5</th>\n",
       "      <td>洋艾</td>\n",
       "      <td>[user-stars allstar30 rating]</td>\n",
       "      <td>或许，六便士是地上的月亮呢</td>\n",
       "    </tr>\n",
       "    <tr>\n",
       "      <th>6</th>\n",
       "      <td>款款</td>\n",
       "      <td>[user-stars allstar50 rating]</td>\n",
       "      <td>很庆幸，一读就读到译文最好的一版。会再读一遍原版。</td>\n",
       "    </tr>\n",
       "    <tr>\n",
       "      <th>7</th>\n",
       "      <td>肉抖抖</td>\n",
       "      <td>[user-stars allstar40 rating]</td>\n",
       "      <td>对女人的态度描写经常让我感到不适，其他很棒</td>\n",
       "    </tr>\n",
       "    <tr>\n",
       "      <th>8</th>\n",
       "      <td>喵与Iris</td>\n",
       "      <td>[user-stars allstar50 rating]</td>\n",
       "      <td>梦想和现实之间总是有着不可逾越的鸿沟。是妥协着苟且着，还是为了梦想不顾所有，每个人都在纠结着...</td>\n",
       "    </tr>\n",
       "    <tr>\n",
       "      <th>9</th>\n",
       "      <td>WiiStone</td>\n",
       "      <td>[user-stars allstar30 rating]</td>\n",
       "      <td>【2018已读59】读完本书的三种人分类。第一种人：\"这查理别是个傻逼吧？肯定脑子有问题。\"...</td>\n",
       "    </tr>\n",
       "    <tr>\n",
       "      <th>10</th>\n",
       "      <td>Sputnīk</td>\n",
       "      <td>[]</td>\n",
       "      <td>我的妈，怎么会有读完这么无感的名著。</td>\n",
       "    </tr>\n",
       "    <tr>\n",
       "      <th>11</th>\n",
       "      <td>陈捺川</td>\n",
       "      <td>[user-stars allstar50 rating]</td>\n",
       "      <td>怎样算做成功？这个问题前一段时间韩寒怼了那篇营销文说到了同样一点：有的人愿意过着平平淡淡，按...</td>\n",
       "    </tr>\n",
       "    <tr>\n",
       "      <th>12</th>\n",
       "      <td>静</td>\n",
       "      <td>[user-stars allstar50 rating]</td>\n",
       "      <td>“我总感觉，大多数人这样度过一生，好像不大对劲儿。我承认这种生活的社会价值，我也看到它井然有...</td>\n",
       "    </tr>\n",
       "    <tr>\n",
       "      <th>13</th>\n",
       "      <td>开闭开</td>\n",
       "      <td>[user-stars allstar50 rating]</td>\n",
       "      <td>难以相信两三年前我多次借这本书但是没看下去，估计是心境问题，十页左右都没翻。果然毛姆对女性的...</td>\n",
       "    </tr>\n",
       "    <tr>\n",
       "      <th>14</th>\n",
       "      <td>第二种白夜</td>\n",
       "      <td>[user-stars allstar30 rating]</td>\n",
       "      <td>喜欢高更但是厌恶此书的风格，浓浓的私货和诱导，把读者当傻子</td>\n",
       "    </tr>\n",
       "    <tr>\n",
       "      <th>15</th>\n",
       "      <td>遠飛</td>\n",
       "      <td>[user-stars allstar50 rating]</td>\n",
       "      <td>比上海译文版的更简洁 翻译的更好</td>\n",
       "    </tr>\n",
       "    <tr>\n",
       "      <th>16</th>\n",
       "      <td>透明北极熊</td>\n",
       "      <td>[user-stars allstar20 rating]</td>\n",
       "      <td>对照原版看这版翻译版，矫揉造作还有翻译错误，不建议此版本。</td>\n",
       "    </tr>\n",
       "    <tr>\n",
       "      <th>17</th>\n",
       "      <td>yoyo</td>\n",
       "      <td>[user-stars allstar40 rating]</td>\n",
       "      <td>我却对着书中描写的“心中的故土”一段情有独钟。</td>\n",
       "    </tr>\n",
       "    <tr>\n",
       "      <th>18</th>\n",
       "      <td>哇哇哇哇哇</td>\n",
       "      <td>[user-stars allstar50 rating]</td>\n",
       "      <td>梵高为疯，高更为狂</td>\n",
       "    </tr>\n",
       "    <tr>\n",
       "      <th>19</th>\n",
       "      <td>蓝小团</td>\n",
       "      <td>[user-stars allstar40 rating]</td>\n",
       "      <td>太多名言警句，作者跟弹幕一样烦。</td>\n",
       "    </tr>\n",
       "    <tr>\n",
       "      <th>20</th>\n",
       "      <td>大头绿豆</td>\n",
       "      <td>[user-stars allstar50 rating]</td>\n",
       "      <td>没有几个人能像他那样说出「无所谓」。所以，人间尽是被绑架的凡俗，然而，否则，又何以成人间呢？</td>\n",
       "    </tr>\n",
       "    <tr>\n",
       "      <th>21</th>\n",
       "      <td>子宁</td>\n",
       "      <td>[user-stars allstar10 rating]</td>\n",
       "      <td>价值观不对，负分滚粗。有些人的月亮，还不值一便士。</td>\n",
       "    </tr>\n",
       "    <tr>\n",
       "      <th>22</th>\n",
       "      <td>funny_vee</td>\n",
       "      <td>[user-stars allstar30 rating]</td>\n",
       "      <td>“一个人往往不是他想成为的那种人，而是他不得不成为的那种人”……主角例外。</td>\n",
       "    </tr>\n",
       "    <tr>\n",
       "      <th>23</th>\n",
       "      <td>竹去</td>\n",
       "      <td>[user-stars allstar30 rating]</td>\n",
       "      <td>不是所有的既定道德都合理且应该被遵守，但对主人公的无耻和缺乏人类基本同理心，叙述者流露出的认...</td>\n",
       "    </tr>\n",
       "    <tr>\n",
       "      <th>24</th>\n",
       "      <td>肖丁麟🐼</td>\n",
       "      <td>[user-stars allstar50 rating]</td>\n",
       "      <td>为天上的月亮神魂颠倒，对脚下的六便士视而不见~现代生活，经常本能性地让人逃离，这种主题也很常...</td>\n",
       "    </tr>\n",
       "    <tr>\n",
       "      <th>25</th>\n",
       "      <td>Ferrariwqq</td>\n",
       "      <td>[user-stars allstar40 rating]</td>\n",
       "      <td>不特别认可剧中主人公多行为，即使他成功了。这样的人不要发生在身边大家都可以轻松谈论，如果真是...</td>\n",
       "    </tr>\n",
       "    <tr>\n",
       "      <th>26</th>\n",
       "      <td>流浪の小圆头</td>\n",
       "      <td>[user-stars allstar50 rating]</td>\n",
       "      <td>梦想与现实，月亮和六便士，不能为生活的习惯而忘记初心。毛姆谈艺术，也谈男人和女人，比我看过所...</td>\n",
       "    </tr>\n",
       "    <tr>\n",
       "      <th>27</th>\n",
       "      <td>例外®</td>\n",
       "      <td>[user-stars allstar50 rating]</td>\n",
       "      <td>令人着迷与恐惧。《70岁老大爷为何要离婚》。。。。</td>\n",
       "    </tr>\n",
       "    <tr>\n",
       "      <th>28</th>\n",
       "      <td>橘子</td>\n",
       "      <td>[user-stars allstar50 rating]</td>\n",
       "      <td>读到布兰奇死的那一段，老妈的手机里正放着“我感动天感动地却感动不了你”，这本书在从北京到西安...</td>\n",
       "    </tr>\n",
       "    <tr>\n",
       "      <th>29</th>\n",
       "      <td>Wesley</td>\n",
       "      <td>[user-stars allstar40 rating]</td>\n",
       "      <td>看完觉得那么多年被骗/我误会了，斯特里克兰不是什么辞职寻求梦想的普通人，毛姆笔下的就是一个神...</td>\n",
       "    </tr>\n",
       "    <tr>\n",
       "      <th>...</th>\n",
       "      <td>...</td>\n",
       "      <td>...</td>\n",
       "      <td>...</td>\n",
       "    </tr>\n",
       "    <tr>\n",
       "      <th>70</th>\n",
       "      <td>王呆呆</td>\n",
       "      <td>[user-stars allstar10 rating]</td>\n",
       "      <td>垃圾骗子！垃圾！骗子！</td>\n",
       "    </tr>\n",
       "    <tr>\n",
       "      <th>71</th>\n",
       "      <td>瓜。相信这个世界很变态。</td>\n",
       "      <td>[user-stars allstar30 rating]</td>\n",
       "      <td>久负盛名终于看了，第一本毛姆是《刀锋》，也确认毛姆原来就是这样的，用最真实的虚构去解释他对于...</td>\n",
       "    </tr>\n",
       "    <tr>\n",
       "      <th>72</th>\n",
       "      <td>修二的轮舞</td>\n",
       "      <td>[user-stars allstar50 rating]</td>\n",
       "      <td>关于理想和世俗，关于漂泊与归属。如果没有斯特里克兰的看破与执着，就不要学他的选择与勇气。最后...</td>\n",
       "    </tr>\n",
       "    <tr>\n",
       "      <th>73</th>\n",
       "      <td>maiku 8</td>\n",
       "      <td>[user-stars allstar40 rating]</td>\n",
       "      <td>建议读英文原版</td>\n",
       "    </tr>\n",
       "    <tr>\n",
       "      <th>74</th>\n",
       "      <td>psycholu</td>\n",
       "      <td>[user-stars allstar40 rating]</td>\n",
       "      <td>天才很多时候总是那么格格不入，甚至有点冷漠与自私，而他们去活成自己本来的样子的努力，去追求自...</td>\n",
       "    </tr>\n",
       "    <tr>\n",
       "      <th>75</th>\n",
       "      <td>Sammy</td>\n",
       "      <td>[user-stars allstar50 rating]</td>\n",
       "      <td>可他瞎了</td>\n",
       "    </tr>\n",
       "    <tr>\n",
       "      <th>76</th>\n",
       "      <td>倒理</td>\n",
       "      <td>[user-stars allstar30 rating]</td>\n",
       "      <td>“老弟，你以为我会在意你对我的看法吗？”</td>\n",
       "    </tr>\n",
       "    <tr>\n",
       "      <th>77</th>\n",
       "      <td>苹果派</td>\n",
       "      <td>[user-stars allstar50 rating]</td>\n",
       "      <td>羡慕勇敢追求梦想的人，我在原地踏步，生活的意义是什么呢？</td>\n",
       "    </tr>\n",
       "    <tr>\n",
       "      <th>78</th>\n",
       "      <td>look</td>\n",
       "      <td>[user-stars allstar50 rating]</td>\n",
       "      <td>要不是我去过两次东马的亚庇。可能也无法理解的这么深刻。\\n我们像当地人一样出海，休闲，享受极...</td>\n",
       "    </tr>\n",
       "    <tr>\n",
       "      <th>79</th>\n",
       "      <td>江湖鲜有的传说</td>\n",
       "      <td>[user-stars allstar50 rating]</td>\n",
       "      <td>你要什么 取决于你的需要</td>\n",
       "    </tr>\n",
       "    <tr>\n",
       "      <th>80</th>\n",
       "      <td>F</td>\n",
       "      <td>[]</td>\n",
       "      <td>电子版读了后一半</td>\n",
       "    </tr>\n",
       "    <tr>\n",
       "      <th>81</th>\n",
       "      <td>预见|| X X</td>\n",
       "      <td>[user-stars allstar50 rating]</td>\n",
       "      <td>shot down</td>\n",
       "    </tr>\n",
       "    <tr>\n",
       "      <th>82</th>\n",
       "      <td>雫哪</td>\n",
       "      <td>[user-stars allstar50 rating]</td>\n",
       "      <td>震撼</td>\n",
       "    </tr>\n",
       "    <tr>\n",
       "      <th>83</th>\n",
       "      <td>[已注销]</td>\n",
       "      <td>[user-stars allstar40 rating]</td>\n",
       "      <td>学车的时候读的，环境太聒噪，改天要重读，为什么别人的评论都那么动情。。。</td>\n",
       "    </tr>\n",
       "    <tr>\n",
       "      <th>84</th>\n",
       "      <td>伽520</td>\n",
       "      <td>[user-stars allstar40 rating]</td>\n",
       "      <td>毛姆是个厌女症患者。</td>\n",
       "    </tr>\n",
       "    <tr>\n",
       "      <th>85</th>\n",
       "      <td>米书</td>\n",
       "      <td>[user-stars allstar50 rating]</td>\n",
       "      <td>高更是幸福的</td>\n",
       "    </tr>\n",
       "    <tr>\n",
       "      <th>86</th>\n",
       "      <td>大蕊</td>\n",
       "      <td>[user-stars allstar40 rating]</td>\n",
       "      <td>奇妙荒诞的旅程。确忠于自我。你如何摆脱这生命的桎梏？</td>\n",
       "    </tr>\n",
       "    <tr>\n",
       "      <th>87</th>\n",
       "      <td>大啊啊啊啊柑橘</td>\n",
       "      <td>[user-stars allstar40 rating]</td>\n",
       "      <td>毛姆是把刀</td>\n",
       "    </tr>\n",
       "    <tr>\n",
       "      <th>88</th>\n",
       "      <td>pan</td>\n",
       "      <td>[user-stars allstar40 rating]</td>\n",
       "      <td>真正的艺术，为自己而作。\\n追逐梦想，何时都不晚。</td>\n",
       "    </tr>\n",
       "    <tr>\n",
       "      <th>89</th>\n",
       "      <td>林思砚</td>\n",
       "      <td>[user-stars allstar50 rating]</td>\n",
       "      <td>要是查理没有成功呢？有多少会更唾弃他</td>\n",
       "    </tr>\n",
       "    <tr>\n",
       "      <th>90</th>\n",
       "      <td>奥利芙</td>\n",
       "      <td>[user-stars allstar50 rating]</td>\n",
       "      <td>生活让人发笑，未免乐极生悲</td>\n",
       "    </tr>\n",
       "    <tr>\n",
       "      <th>91</th>\n",
       "      <td>陈某某</td>\n",
       "      <td>[user-stars allstar50 rating]</td>\n",
       "      <td>「We are all in the gutter, but some of us are ...</td>\n",
       "    </tr>\n",
       "    <tr>\n",
       "      <th>92</th>\n",
       "      <td>枕霞旧友</td>\n",
       "      <td>[user-stars allstar50 rating]</td>\n",
       "      <td>人如果有梦想，为什么不去追一次呢？毕竟，满地都是六便士，而月亮只有一个。即使最终失败了，那也...</td>\n",
       "    </tr>\n",
       "    <tr>\n",
       "      <th>93</th>\n",
       "      <td>米娅</td>\n",
       "      <td>[user-stars allstar40 rating]</td>\n",
       "      <td>月亮哪有那么容易寻到呢。既然有前进一寸的勇气，亦有后退一尺的从容。</td>\n",
       "    </tr>\n",
       "    <tr>\n",
       "      <th>94</th>\n",
       "      <td>长泽结衣</td>\n",
       "      <td>[user-stars allstar50 rating]</td>\n",
       "      <td>喜欢</td>\n",
       "    </tr>\n",
       "    <tr>\n",
       "      <th>95</th>\n",
       "      <td>enclavekid</td>\n",
       "      <td>[user-stars allstar30 rating]</td>\n",
       "      <td>没看出毛姆是个多好的storyteller，倒是觉得他满满的仇女思想。</td>\n",
       "    </tr>\n",
       "    <tr>\n",
       "      <th>96</th>\n",
       "      <td>精分想要去广州</td>\n",
       "      <td>[user-stars allstar30 rating]</td>\n",
       "      <td>对亲人的残忍不是谁都能做到。</td>\n",
       "    </tr>\n",
       "    <tr>\n",
       "      <th>97</th>\n",
       "      <td>0325👩🏻🌾</td>\n",
       "      <td>[user-stars allstar30 rating]</td>\n",
       "      <td>故事其实是很简单的故事呀 大概52章之后才开始精彩 特别喜欢小岛上的生活描述 可能是最接近死...</td>\n",
       "    </tr>\n",
       "    <tr>\n",
       "      <th>98</th>\n",
       "      <td>刀过解竹</td>\n",
       "      <td>[]</td>\n",
       "      <td>我们这些人就像从终点站到终点站往返行驶的有轨电车，连乘客的数目也能估计个八九不离十。生活被安...</td>\n",
       "    </tr>\n",
       "    <tr>\n",
       "      <th>99</th>\n",
       "      <td>张沂</td>\n",
       "      <td>[user-stars allstar30 rating]</td>\n",
       "      <td>毛姆可真够酸的</td>\n",
       "    </tr>\n",
       "  </tbody>\n",
       "</table>\n",
       "<p>100 rows × 3 columns</p>\n",
       "</div>"
      ],
      "text/plain": [
       "            user                           srar  \\\n",
       "0            辣辣周  [user-stars allstar50 rating]   \n",
       "1             蘅霜  [user-stars allstar50 rating]   \n",
       "2         面白饭Θ☉Θ  [user-stars allstar50 rating]   \n",
       "3              A  [user-stars allstar50 rating]   \n",
       "4        LIVANTO  [user-stars allstar20 rating]   \n",
       "5             洋艾  [user-stars allstar30 rating]   \n",
       "6             款款  [user-stars allstar50 rating]   \n",
       "7            肉抖抖  [user-stars allstar40 rating]   \n",
       "8         喵与Iris  [user-stars allstar50 rating]   \n",
       "9       WiiStone  [user-stars allstar30 rating]   \n",
       "10       Sputnīk                             []   \n",
       "11           陈捺川  [user-stars allstar50 rating]   \n",
       "12             静  [user-stars allstar50 rating]   \n",
       "13           开闭开  [user-stars allstar50 rating]   \n",
       "14         第二种白夜  [user-stars allstar30 rating]   \n",
       "15            遠飛  [user-stars allstar50 rating]   \n",
       "16         透明北极熊  [user-stars allstar20 rating]   \n",
       "17          yoyo  [user-stars allstar40 rating]   \n",
       "18         哇哇哇哇哇  [user-stars allstar50 rating]   \n",
       "19           蓝小团  [user-stars allstar40 rating]   \n",
       "20          大头绿豆  [user-stars allstar50 rating]   \n",
       "21            子宁  [user-stars allstar10 rating]   \n",
       "22     funny_vee  [user-stars allstar30 rating]   \n",
       "23            竹去  [user-stars allstar30 rating]   \n",
       "24          肖丁麟🐼  [user-stars allstar50 rating]   \n",
       "25    Ferrariwqq  [user-stars allstar40 rating]   \n",
       "26        流浪の小圆头  [user-stars allstar50 rating]   \n",
       "27           例外®  [user-stars allstar50 rating]   \n",
       "28            橘子  [user-stars allstar50 rating]   \n",
       "29        Wesley  [user-stars allstar40 rating]   \n",
       "..           ...                            ...   \n",
       "70           王呆呆  [user-stars allstar10 rating]   \n",
       "71  瓜。相信这个世界很变态。  [user-stars allstar30 rating]   \n",
       "72         修二的轮舞  [user-stars allstar50 rating]   \n",
       "73       maiku 8  [user-stars allstar40 rating]   \n",
       "74      psycholu  [user-stars allstar40 rating]   \n",
       "75         Sammy  [user-stars allstar50 rating]   \n",
       "76            倒理  [user-stars allstar30 rating]   \n",
       "77           苹果派  [user-stars allstar50 rating]   \n",
       "78          look  [user-stars allstar50 rating]   \n",
       "79       江湖鲜有的传说  [user-stars allstar50 rating]   \n",
       "80             F                             []   \n",
       "81      预见|| X X  [user-stars allstar50 rating]   \n",
       "82            雫哪  [user-stars allstar50 rating]   \n",
       "83         [已注销]  [user-stars allstar40 rating]   \n",
       "84          伽520  [user-stars allstar40 rating]   \n",
       "85            米书  [user-stars allstar50 rating]   \n",
       "86            大蕊  [user-stars allstar40 rating]   \n",
       "87       大啊啊啊啊柑橘  [user-stars allstar40 rating]   \n",
       "88           pan  [user-stars allstar40 rating]   \n",
       "89           林思砚  [user-stars allstar50 rating]   \n",
       "90           奥利芙  [user-stars allstar50 rating]   \n",
       "91           陈某某  [user-stars allstar50 rating]   \n",
       "92          枕霞旧友  [user-stars allstar50 rating]   \n",
       "93            米娅  [user-stars allstar40 rating]   \n",
       "94          长泽结衣  [user-stars allstar50 rating]   \n",
       "95    enclavekid  [user-stars allstar30 rating]   \n",
       "96       精分想要去广州  [user-stars allstar30 rating]   \n",
       "97       0325👩🏻🌾  [user-stars allstar30 rating]   \n",
       "98          刀过解竹                             []   \n",
       "99            张沂  [user-stars allstar30 rating]   \n",
       "\n",
       "                                             comments  \n",
       "0                     听说读完这本书的人，都辞职了。我的领导看到我手里的书，如是说。  \n",
       "1   斯特里兰克夫人的爱掺杂着虚荣，布兰奇的爱出于自我与报复，唯有阿塔与塔希提岛的海风，才容得下纯...  \n",
       "2   怀着感恩和虔诚的心，凌晨六点零六分读完这本书。羡慕里面所有追求梦想，内心坚定的人，甚至羡慕那...  \n",
       "3                       然后我就又看了一遍 看到快哭了都！ ps这个版本翻译的极好  \n",
       "4          一个傻逼艺术家到处给人添麻烦，以及他无辜朋友们的故事。这个三观太不正了。翻译还不错。  \n",
       "5                                       或许，六便士是地上的月亮呢  \n",
       "6                           很庆幸，一读就读到译文最好的一版。会再读一遍原版。  \n",
       "7                               对女人的态度描写经常让我感到不适，其他很棒  \n",
       "8   梦想和现实之间总是有着不可逾越的鸿沟。是妥协着苟且着，还是为了梦想不顾所有，每个人都在纠结着...  \n",
       "9   【2018已读59】读完本书的三种人分类。第一种人：\"这查理别是个傻逼吧？肯定脑子有问题。\"...  \n",
       "10                                 我的妈，怎么会有读完这么无感的名著。  \n",
       "11  怎样算做成功？这个问题前一段时间韩寒怼了那篇营销文说到了同样一点：有的人愿意过着平平淡淡，按...  \n",
       "12  “我总感觉，大多数人这样度过一生，好像不大对劲儿。我承认这种生活的社会价值，我也看到它井然有...  \n",
       "13  难以相信两三年前我多次借这本书但是没看下去，估计是心境问题，十页左右都没翻。果然毛姆对女性的...  \n",
       "14                      喜欢高更但是厌恶此书的风格，浓浓的私货和诱导，把读者当傻子  \n",
       "15                                   比上海译文版的更简洁 翻译的更好  \n",
       "16                      对照原版看这版翻译版，矫揉造作还有翻译错误，不建议此版本。  \n",
       "17                            我却对着书中描写的“心中的故土”一段情有独钟。  \n",
       "18                                          梵高为疯，高更为狂  \n",
       "19                                   太多名言警句，作者跟弹幕一样烦。  \n",
       "20     没有几个人能像他那样说出「无所谓」。所以，人间尽是被绑架的凡俗，然而，否则，又何以成人间呢？  \n",
       "21                          价值观不对，负分滚粗。有些人的月亮，还不值一便士。  \n",
       "22              “一个人往往不是他想成为的那种人，而是他不得不成为的那种人”……主角例外。  \n",
       "23  不是所有的既定道德都合理且应该被遵守，但对主人公的无耻和缺乏人类基本同理心，叙述者流露出的认...  \n",
       "24  为天上的月亮神魂颠倒，对脚下的六便士视而不见~现代生活，经常本能性地让人逃离，这种主题也很常...  \n",
       "25  不特别认可剧中主人公多行为，即使他成功了。这样的人不要发生在身边大家都可以轻松谈论，如果真是...  \n",
       "26  梦想与现实，月亮和六便士，不能为生活的习惯而忘记初心。毛姆谈艺术，也谈男人和女人，比我看过所...  \n",
       "27                          令人着迷与恐惧。《70岁老大爷为何要离婚》。。。。  \n",
       "28  读到布兰奇死的那一段，老妈的手机里正放着“我感动天感动地却感动不了你”，这本书在从北京到西安...  \n",
       "29  看完觉得那么多年被骗/我误会了，斯特里克兰不是什么辞职寻求梦想的普通人，毛姆笔下的就是一个神...  \n",
       "..                                                ...  \n",
       "70                                        垃圾骗子！垃圾！骗子！  \n",
       "71  久负盛名终于看了，第一本毛姆是《刀锋》，也确认毛姆原来就是这样的，用最真实的虚构去解释他对于...  \n",
       "72  关于理想和世俗，关于漂泊与归属。如果没有斯特里克兰的看破与执着，就不要学他的选择与勇气。最后...  \n",
       "73                                            建议读英文原版  \n",
       "74  天才很多时候总是那么格格不入，甚至有点冷漠与自私，而他们去活成自己本来的样子的努力，去追求自...  \n",
       "75                                               可他瞎了  \n",
       "76                               “老弟，你以为我会在意你对我的看法吗？”  \n",
       "77                       羡慕勇敢追求梦想的人，我在原地踏步，生活的意义是什么呢？  \n",
       "78  要不是我去过两次东马的亚庇。可能也无法理解的这么深刻。\\n我们像当地人一样出海，休闲，享受极...  \n",
       "79                                       你要什么 取决于你的需要  \n",
       "80                                           电子版读了后一半  \n",
       "81                                          shot down  \n",
       "82                                                 震撼  \n",
       "83               学车的时候读的，环境太聒噪，改天要重读，为什么别人的评论都那么动情。。。  \n",
       "84                                         毛姆是个厌女症患者。  \n",
       "85                                             高更是幸福的  \n",
       "86                         奇妙荒诞的旅程。确忠于自我。你如何摆脱这生命的桎梏？  \n",
       "87                                              毛姆是把刀  \n",
       "88                          真正的艺术，为自己而作。\\n追逐梦想，何时都不晚。  \n",
       "89                                 要是查理没有成功呢？有多少会更唾弃他  \n",
       "90                                      生活让人发笑，未免乐极生悲  \n",
       "91  「We are all in the gutter, but some of us are ...  \n",
       "92  人如果有梦想，为什么不去追一次呢？毕竟，满地都是六便士，而月亮只有一个。即使最终失败了，那也...  \n",
       "93                  月亮哪有那么容易寻到呢。既然有前进一寸的勇气，亦有后退一尺的从容。  \n",
       "94                                                 喜欢  \n",
       "95                没看出毛姆是个多好的storyteller，倒是觉得他满满的仇女思想。  \n",
       "96                                     对亲人的残忍不是谁都能做到。  \n",
       "97  故事其实是很简单的故事呀 大概52章之后才开始精彩 特别喜欢小岛上的生活描述 可能是最接近死...  \n",
       "98  我们这些人就像从终点站到终点站往返行驶的有轨电车，连乘客的数目也能估计个八九不离十。生活被安...  \n",
       "99                                            毛姆可真够酸的  \n",
       "\n",
       "[100 rows x 3 columns]"
      ]
     },
     "execution_count": 19,
     "metadata": {},
     "output_type": "execute_result"
    }
   ],
   "source": [
    "##整理数据\n",
    "import pandas as pd\n",
    "comments_df = pd.DataFrame(comment_dic)\n",
    "comments_df[0:100]"
   ]
  },
  {
   "cell_type": "markdown",
   "metadata": {},
   "source": [
    "#### Step4：存储数据"
   ]
  },
  {
   "cell_type": "code",
   "execution_count": 20,
   "metadata": {},
   "outputs": [],
   "source": [
    "##导入进excel\n",
    "comments_df.to_excel('d:\\\\comments1.xlsx')"
   ]
  },
  {
   "cell_type": "markdown",
   "metadata": {},
   "source": [
    "## 三、多本书的书评爬取"
   ]
  },
  {
   "cell_type": "markdown",
   "metadata": {},
   "source": [
    "###### 思路：点开网页观察\n",
    ">1、先将每一本书的网址提取出来，作为需要请求的页面                                                                \n",
    ">2、访问每一个页面后，找到其书评的所在的网页，作为第二步需要请求的页面                                            \n",
    ">3、进入上一步的页面，找到所有的书评，爬取"
   ]
  },
  {
   "cell_type": "markdown",
   "metadata": {},
   "source": [
    "#### Step1：进入初始的网页，遍历每一页，将每一页的信息合并"
   ]
  },
  {
   "cell_type": "code",
   "execution_count": 10,
   "metadata": {},
   "outputs": [],
   "source": [
    "##先取到所有书的链接存入一个list\n",
    "url=\"https://www.douban.com/tag/%E5%B0%8F%E8%AF%B4/book\"\n",
    "headers = {\n",
    "    'User-Agent':'Mozilla/5.0 (Windows NT 10.0; Win64; x64; rv:57.0) Gecko/20100101 Firefox/57.0',\n",
    "}\n",
    "##因为我们希望取到尽可能多的数目，所以这里就要翻页\n",
    "##观察页数发现是一个等差数列的变化\n",
    "import numpy as np\n",
    "a = np.arange(0,300,15)\n",
    "page=('?start=')\n",
    "##循环去遍历\n",
    "for i in a:\n",
    "    if i == 0:\n",
    "        b=url\n",
    "        r=requests.get(url=b,headers=headers)\n",
    "        data=r.text\n",
    "    else:\n",
    "        i=str(i)\n",
    "        b=(url+page+i)\n",
    "        r=requests.get(url=b,headers=headers)\n",
    "        data2=r.text\n",
    "        data=data+data2\n",
    "    time.sleep(1)"
   ]
  },
  {
   "cell_type": "code",
   "execution_count": 13,
   "metadata": {},
   "outputs": [
    {
     "name": "stdout",
     "output_type": "stream",
     "text": [
      "https://www.douban.com/tag/%E5%B0%8F%E8%AF%B4/book?start=285\n"
     ]
    }
   ],
   "source": [
    "print(b)"
   ]
  },
  {
   "cell_type": "markdown",
   "metadata": {},
   "source": [
    "#### Step2：解析网页，找到评论页面的链接网址"
   ]
  },
  {
   "cell_type": "code",
   "execution_count": 14,
   "metadata": {},
   "outputs": [
    {
     "name": "stdout",
     "output_type": "stream",
     "text": [
      "<Element html at 0x1f76e1dc208>\n"
     ]
    }
   ],
   "source": [
    "from lxml import etree\n",
    "selector1=etree.HTML(data)\n",
    "print(selector1)"
   ]
  },
  {
   "cell_type": "code",
   "execution_count": 15,
   "metadata": {},
   "outputs": [
    {
     "name": "stdout",
     "output_type": "stream",
     "text": [
      "['https://book.douban.com/subject/26954760/?from=tag_all', 'https://book.douban.com/subject/4913064/?from=tag_all', 'https://book.douban.com/subject/27053166/?from=tag_all', 'https://book.douban.com/subject/1770782/?from=tag_all', 'https://book.douban.com/subject/6518605/?from=tag_all', 'https://book.douban.com/subject/26879778/?from=tag_all', 'https://book.douban.com/subject/26715115/?from=tag_all', 'https://book.douban.com/subject/6082808/?from=tag_all', 'https://book.douban.com/subject/3259440/?from=tag_all', 'https://book.douban.com/subject/1084336/?from=tag_all', 'https://book.douban.com/subject/1082154/?from=tag_all', 'https://book.douban.com/subject/10594787/?from=tag_all', 'https://book.douban.com/subject/25862578/?from=tag_all', 'https://book.douban.com/subject/1008145/?from=tag_all', 'https://book.douban.com/subject/5363767/?from=tag_all', 'https://book.douban.com/subject/2567698/?from=tag_all', 'https://book.douban.com/subject/26878124/?from=tag_all', 'https://book.douban.com/subject/1007305/?from=tag_all', 'https://book.douban.com/subject/30254236/?from=tag_all', 'https://book.douban.com/subject/3211779/?from=tag_all', 'https://book.douban.com/subject/26863404/?from=tag_all', 'https://book.douban.com/subject/4820710/?from=tag_all', 'https://book.douban.com/subject/27614904/?from=tag_all', 'https://book.douban.com/subject/6781808/?from=tag_all', 'https://book.douban.com/subject/1200840/?from=tag_all', 'https://book.douban.com/subject/30254298/?from=tag_all', 'https://book.douban.com/subject/11524927/?from=tag_all', 'https://book.douban.com/subject/1041482/?from=tag_all', 'https://book.douban.com/subject/3066477/?from=tag_all', 'https://book.douban.com/subject/1023045/?from=tag_all', 'https://book.douban.com/subject/25778507/?from=tag_all', 'https://book.douban.com/subject/26352569/?from=tag_all', 'https://book.douban.com/subject/1068920/?from=tag_all', 'https://book.douban.com/subject/4908885/?from=tag_all', 'https://book.douban.com/subject/1361264/?from=tag_all', 'https://book.douban.com/subject/1017143/?from=tag_all', 'https://book.douban.com/subject/1054685/?from=tag_all', 'https://book.douban.com/subject/1858513/?from=tag_all', 'https://book.douban.com/subject/26986954/?from=tag_all', 'https://book.douban.com/subject/4011670/?from=tag_all', 'https://book.douban.com/subject/1083428/?from=tag_all', 'https://book.douban.com/subject/1041007/?from=tag_all', 'https://book.douban.com/subject/1029791/?from=tag_all', 'https://book.douban.com/subject/1046265/?from=tag_all', 'https://book.douban.com/subject/1873231/?from=tag_all', 'https://book.douban.com/subject/10554308/?from=tag_all', 'https://book.douban.com/subject/26698660/?from=tag_all', 'https://book.douban.com/subject/1057244/?from=tag_all', 'https://book.douban.com/subject/4242172/?from=tag_all', 'https://book.douban.com/subject/27204805/?from=tag_all', 'https://book.douban.com/subject/25873415/?from=tag_all', 'https://book.douban.com/subject/30339988/?from=tag_all', 'https://book.douban.com/subject/1085860/?from=tag_all', 'https://book.douban.com/subject/1827374/?from=tag_all', 'https://book.douban.com/subject/3646172/?from=tag_all', 'https://book.douban.com/subject/1089243/?from=tag_all', 'https://book.douban.com/subject/2035179/?from=tag_all', 'https://book.douban.com/subject/30329883/?from=tag_all', 'https://book.douban.com/subject/30316475/?from=tag_all', 'https://book.douban.com/subject/3006581/?from=tag_all', 'https://book.douban.com/subject/2143732/?from=tag_all', 'https://book.douban.com/subject/1400705/?from=tag_all', 'https://book.douban.com/subject/1019568/?from=tag_all', 'https://book.douban.com/subject/1040211/?from=tag_all', 'https://book.douban.com/subject/1008988/?from=tag_all', 'https://book.douban.com/subject/1119522/?from=tag_all', 'https://book.douban.com/subject/3239549/?from=tag_all', 'https://book.douban.com/subject/1254588/?from=tag_all', 'https://book.douban.com/subject/1071241/?from=tag_all', 'https://book.douban.com/subject/1432596/?from=tag_all', 'https://book.douban.com/subject/1080370/?from=tag_all', 'https://book.douban.com/subject/26853356/?from=tag_all', 'https://book.douban.com/subject/1022060/?from=tag_all', 'https://book.douban.com/subject/1449351/?from=tag_all', 'https://book.douban.com/subject/1002299/?from=tag_all', 'https://book.douban.com/subject/6879500/?from=tag_all', 'https://book.douban.com/subject/1209899/?from=tag_all', 'https://book.douban.com/subject/1059419/?from=tag_all', 'https://book.douban.com/subject/1043815/?from=tag_all', 'https://book.douban.com/subject/1014278/?from=tag_all', 'https://book.douban.com/subject/26963321/?from=tag_all', 'https://book.douban.com/subject/1865089/?from=tag_all', 'https://book.douban.com/subject/1205054/?from=tag_all', 'https://book.douban.com/subject/3266609/?from=tag_all', 'https://book.douban.com/subject/30276134/?from=tag_all', 'https://book.douban.com/subject/4742918/?from=tag_all', 'https://book.douban.com/subject/3393172/?from=tag_all', 'https://book.douban.com/subject/1009257/?from=tag_all', 'https://book.douban.com/subject/25745773/?from=tag_all', 'https://book.douban.com/subject/24934182/?from=tag_all', 'https://book.douban.com/subject/1060852/?from=tag_all', 'https://book.douban.com/subject/1948901/?from=tag_all', 'https://book.douban.com/subject/1316648/?from=tag_all', 'https://book.douban.com/subject/1013380/?from=tag_all', 'https://book.douban.com/subject/1963684/?from=tag_all', 'https://book.douban.com/subject/25898626/?from=tag_all', 'https://book.douban.com/subject/3136271/?from=tag_all', 'https://book.douban.com/subject/30337614/?from=tag_all', 'https://book.douban.com/subject/26425831/?from=tag_all', 'https://book.douban.com/subject/4039903/?from=tag_all', 'https://book.douban.com/subject/26935435/?from=tag_all', 'https://book.douban.com/subject/1013129/?from=tag_all', 'https://book.douban.com/subject/6880158/?from=tag_all', 'https://book.douban.com/subject/1336330/?from=tag_all', 'https://book.douban.com/subject/1039487/?from=tag_all', 'https://book.douban.com/subject/27069925/?from=tag_all', 'https://book.douban.com/subject/1088065/?from=tag_all', 'https://book.douban.com/subject/1066462/?from=tag_all', 'https://book.douban.com/subject/30224833/?from=tag_all', 'https://book.douban.com/subject/27104959/?from=tag_all', 'https://book.douban.com/subject/30302069/?from=tag_all', 'https://book.douban.com/subject/7060185/?from=tag_all', 'https://book.douban.com/subject/10608315/?from=tag_all', 'https://book.douban.com/subject/22023679/?from=tag_all', 'https://book.douban.com/subject/5337248/?from=tag_all', 'https://book.douban.com/subject/1003000/?from=tag_all', 'https://book.douban.com/subject/3674537/?from=tag_all', 'https://book.douban.com/subject/30301376/?from=tag_all', 'https://book.douban.com/subject/25976544/?from=tag_all', 'https://book.douban.com/subject/30318719/?from=tag_all', 'https://book.douban.com/subject/26672693/?from=tag_all', 'https://book.douban.com/subject/26278687/?from=tag_all', 'https://book.douban.com/subject/3633461/?from=tag_all', 'https://book.douban.com/subject/2159042/?from=tag_all', 'https://book.douban.com/subject/30237176/?from=tag_all', 'https://book.douban.com/subject/4760224/?from=tag_all', 'https://book.douban.com/subject/1346815/?from=tag_all', 'https://book.douban.com/subject/26647769/?from=tag_all', 'https://book.douban.com/subject/4240543/?from=tag_all', 'https://book.douban.com/subject/26923390/?from=tag_all', 'https://book.douban.com/subject/1863930/?from=tag_all', 'https://book.douban.com/subject/1398395/?from=tag_all', 'https://book.douban.com/subject/6388661/?from=tag_all', 'https://book.douban.com/subject/1085470/?from=tag_all', 'https://book.douban.com/subject/27611173/?from=tag_all', 'https://book.douban.com/subject/1013416/?from=tag_all', 'https://book.douban.com/subject/3013903/?from=tag_all', 'https://book.douban.com/subject/1192090/?from=tag_all', 'https://book.douban.com/subject/1044547/?from=tag_all', 'https://book.douban.com/subject/1424741/?from=tag_all', 'https://book.douban.com/subject/3406401/?from=tag_all', 'https://book.douban.com/subject/25829693/?from=tag_all', 'https://book.douban.com/subject/26905155/?from=tag_all', 'https://book.douban.com/subject/1818347/?from=tag_all', 'https://book.douban.com/subject/1213546/?from=tag_all', 'https://book.douban.com/subject/1051193/?from=tag_all', 'https://book.douban.com/subject/27029890/?from=tag_all', 'https://book.douban.com/subject/26414020/?from=tag_all', 'https://book.douban.com/subject/26896530/?from=tag_all', 'https://book.douban.com/subject/26757680/?from=tag_all', 'https://book.douban.com/subject/1401425/?from=tag_all', 'https://book.douban.com/subject/1005521/?from=tag_all', 'https://book.douban.com/subject/1291809/?from=tag_all', 'https://book.douban.com/subject/3014576/?from=tag_all', 'https://book.douban.com/subject/10517238/?from=tag_all', 'https://book.douban.com/subject/1007433/?from=tag_all', 'https://book.douban.com/subject/30296432/?from=tag_all', 'https://book.douban.com/subject/30275097/?from=tag_all', 'https://book.douban.com/subject/6789605/?from=tag_all', 'https://book.douban.com/subject/30324808/?from=tag_all', 'https://book.douban.com/subject/3803820/?from=tag_all', 'https://book.douban.com/subject/1080309/?from=tag_all', 'https://book.douban.com/subject/24754316/?from=tag_all', 'https://book.douban.com/subject/2035171/?from=tag_all', 'https://book.douban.com/subject/3017857/?from=tag_all', 'https://book.douban.com/subject/1092335/?from=tag_all', 'https://book.douban.com/subject/30345416/?from=tag_all', 'https://book.douban.com/subject/2340100/?from=tag_all', 'https://book.douban.com/subject/1029111/?from=tag_all', 'https://book.douban.com/subject/1029553/?from=tag_all', 'https://book.douban.com/subject/30299534/?from=tag_all', 'https://book.douban.com/subject/1043008/?from=tag_all', 'https://book.douban.com/subject/6811366/?from=tag_all', 'https://book.douban.com/subject/30316746/?from=tag_all', 'https://book.douban.com/subject/26434970/?from=tag_all', 'https://book.douban.com/subject/27079479/?from=tag_all', 'https://book.douban.com/subject/3537590/?from=tag_all', 'https://book.douban.com/subject/1082349/?from=tag_all', 'https://book.douban.com/subject/1253310/?from=tag_all', 'https://book.douban.com/subject/30358509/?from=tag_all', 'https://book.douban.com/subject/30206558/?from=tag_all', 'https://book.douban.com/subject/22714154/?from=tag_all', 'https://book.douban.com/subject/26951584/?from=tag_all', 'https://book.douban.com/subject/1858576/?from=tag_all', 'https://book.douban.com/subject/1418686/?from=tag_all', 'https://book.douban.com/subject/10555509/?from=tag_all', 'https://book.douban.com/subject/4842446/?from=tag_all', 'https://book.douban.com/subject/10564071/?from=tag_all', 'https://book.douban.com/subject/1212199/?from=tag_all', 'https://book.douban.com/subject/1082387/?from=tag_all', 'https://book.douban.com/subject/2136140/?from=tag_all', 'https://book.douban.com/subject/25796120/?from=tag_all', 'https://book.douban.com/subject/1143694/?from=tag_all', 'https://book.douban.com/subject/1292416/?from=tag_all', 'https://book.douban.com/subject/27194720/?from=tag_all', 'https://book.douban.com/subject/5916880/?from=tag_all', 'https://book.douban.com/subject/26864984/?from=tag_all', 'https://book.douban.com/subject/1020459/?from=tag_all', 'https://book.douban.com/subject/2022979/?from=tag_all', 'https://book.douban.com/subject/1059336/?from=tag_all', 'https://book.douban.com/subject/1036490/?from=tag_all', 'https://book.douban.com/subject/27077129/?from=tag_all', 'https://book.douban.com/subject/30335984/?from=tag_all', 'https://book.douban.com/subject/1036274/?from=tag_all', 'https://book.douban.com/subject/4123116/?from=tag_all', 'https://book.douban.com/subject/27010212/?from=tag_all', 'https://book.douban.com/subject/30284744/?from=tag_all', 'https://book.douban.com/subject/1203251/?from=tag_all', 'https://book.douban.com/subject/30301374/?from=tag_all', 'https://book.douban.com/subject/26210487/?from=tag_all', 'https://book.douban.com/subject/1882933/?from=tag_all', 'https://book.douban.com/subject/4714734/?from=tag_all', 'https://book.douban.com/subject/5958737/?from=tag_all', 'https://book.douban.com/subject/4011440/?from=tag_all', 'https://book.douban.com/subject/25924253/?from=tag_all', 'https://book.douban.com/subject/30382687/?from=tag_all', 'https://book.douban.com/subject/4166819/?from=tag_all', 'https://book.douban.com/subject/1008357/?from=tag_all', 'https://book.douban.com/subject/1391191/?from=tag_all', 'https://book.douban.com/subject/1062343/?from=tag_all', 'https://book.douban.com/subject/30330291/?from=tag_all', 'https://book.douban.com/subject/5431784/?from=tag_all', 'https://book.douban.com/subject/26340138/?from=tag_all', 'https://book.douban.com/subject/1013225/?from=tag_all', 'https://book.douban.com/subject/4231381/?from=tag_all', 'https://book.douban.com/subject/27091211/?from=tag_all', 'https://book.douban.com/subject/2297697/?from=tag_all', 'https://book.douban.com/subject/27114418/?from=tag_all', 'https://book.douban.com/subject/3131626/?from=tag_all', 'https://book.douban.com/subject/6973970/?from=tag_all', 'https://book.douban.com/subject/26324832/?from=tag_all', 'https://book.douban.com/subject/3920130/?from=tag_all', 'https://book.douban.com/subject/3808982/?from=tag_all', 'https://book.douban.com/subject/27108971/?from=tag_all', 'https://book.douban.com/subject/10522856/?from=tag_all', 'https://book.douban.com/subject/26657570/?from=tag_all', 'https://book.douban.com/subject/30324264/?from=tag_all', 'https://book.douban.com/subject/26889236/?from=tag_all', 'https://book.douban.com/subject/30293665/?from=tag_all', 'https://book.douban.com/subject/26840298/?from=tag_all', 'https://book.douban.com/subject/30301217/?from=tag_all', 'https://book.douban.com/subject/28656614/?from=tag_all', 'https://book.douban.com/subject/1529893/?from=tag_all', 'https://book.douban.com/subject/1258498/?from=tag_all', 'https://book.douban.com/subject/1070851/?from=tag_all', 'https://book.douban.com/subject/26578531/?from=tag_all', 'https://book.douban.com/subject/1440972/?from=tag_all', 'https://book.douban.com/subject/1006197/?from=tag_all', 'https://book.douban.com/subject/26630480/?from=tag_all', 'https://book.douban.com/subject/3523041/?from=tag_all', 'https://book.douban.com/subject/25774842/?from=tag_all', 'https://book.douban.com/subject/3391248/?from=tag_all', 'https://book.douban.com/subject/26295448/?from=tag_all', 'https://book.douban.com/subject/10774752/?from=tag_all', 'https://book.douban.com/subject/26695174/?from=tag_all']\n"
     ]
    }
   ],
   "source": [
    "##得到所有的网址\n",
    "url_sum=selector1.xpath('//dd/a/@href')\n",
    "print(url_sum)"
   ]
  },
  {
   "cell_type": "code",
   "execution_count": 21,
   "metadata": {},
   "outputs": [],
   "source": [
    "data=str()\n",
    "##每一个网页检索，需要找到他们的节点，返回他们的网页\n",
    "for i in url_sum:\n",
    "    headers = {\n",
    "    'User-Agent':'Mozilla/5.0 (Windows NT 10.0; Win64; x64; rv:57.0) Gecko/20100101 Firefox/57.0',\n",
    "}\n",
    "    r=requests.get(url=i,headers=headers)\n",
    "    data3=r.text\n",
    "    data=data+data3\n",
    "    time.sleep(1)\n",
    "   "
   ]
  },
  {
   "cell_type": "code",
   "execution_count": 22,
   "metadata": {},
   "outputs": [],
   "source": [
    "##找到每一个评论网页\n",
    "selector2=etree.HTML(data)\n",
    "url_list=selector2.xpath('//div[@class=\"mod-hd\"]/h2/span[2]/a/@href')   "
   ]
  },
  {
   "cell_type": "code",
   "execution_count": 23,
   "metadata": {},
   "outputs": [
    {
     "name": "stdout",
     "output_type": "stream",
     "text": [
      "['https://book.douban.com/subject/26954760/comments/', 'https://book.douban.com/subject/4913064/comments/', 'https://book.douban.com/subject/27053166/comments/', 'https://book.douban.com/subject/1770782/comments/', 'https://book.douban.com/subject/6518605/comments/', 'https://book.douban.com/subject/26879778/comments/', 'https://book.douban.com/subject/26715115/comments/', 'https://book.douban.com/subject/6082808/comments/', 'https://book.douban.com/subject/3259440/comments/', 'https://book.douban.com/subject/1084336/comments/', 'https://book.douban.com/subject/1082154/comments/', 'https://book.douban.com/subject/10594787/comments/', 'https://book.douban.com/subject/25862578/comments/', 'https://book.douban.com/subject/1008145/comments/', 'https://book.douban.com/subject/5363767/comments/', 'https://book.douban.com/subject/2567698/comments/', 'https://book.douban.com/subject/26878124/comments/', 'https://book.douban.com/subject/1007305/comments/', 'https://book.douban.com/subject/30254236/comments/', 'https://book.douban.com/subject/3211779/comments/', 'https://book.douban.com/subject/26863404/comments/', 'https://book.douban.com/subject/4820710/comments/', 'https://book.douban.com/subject/27614904/comments/', 'https://book.douban.com/subject/6781808/comments/', 'https://book.douban.com/subject/1200840/comments/', 'https://book.douban.com/subject/30254298/comments/', 'https://book.douban.com/subject/11524927/comments/', 'https://book.douban.com/subject/1041482/comments/', 'https://book.douban.com/subject/3066477/comments/', 'https://book.douban.com/subject/1023045/comments/', 'https://book.douban.com/subject/25778507/comments/', 'https://book.douban.com/subject/26352569/comments/', 'https://book.douban.com/subject/1068920/comments/', 'https://book.douban.com/subject/4908885/comments/', 'https://book.douban.com/subject/1361264/comments/', 'https://book.douban.com/subject/1017143/comments/', 'https://book.douban.com/subject/1054685/comments/', 'https://book.douban.com/subject/1858513/comments/', 'https://book.douban.com/subject/26986954/comments/', 'https://book.douban.com/subject/4011670/comments/', 'https://book.douban.com/subject/1083428/comments/', 'https://book.douban.com/subject/1041007/comments/', 'https://book.douban.com/subject/1029791/comments/', 'https://book.douban.com/subject/1046265/comments/', 'https://book.douban.com/subject/1873231/comments/', 'https://book.douban.com/subject/10554308/comments/', 'https://book.douban.com/subject/26698660/comments/', 'https://book.douban.com/subject/1057244/comments/', 'https://book.douban.com/subject/4242172/comments/', 'https://book.douban.com/subject/27204805/comments/', 'https://book.douban.com/subject/25873415/comments/', 'https://book.douban.com/subject/30339988/comments/', 'https://book.douban.com/subject/1085860/comments/', 'https://book.douban.com/subject/1827374/comments/', 'https://book.douban.com/subject/3646172/comments/', 'https://book.douban.com/subject/1089243/comments/', 'https://book.douban.com/subject/2035179/comments/', 'https://book.douban.com/subject/30329883/comments/', 'https://book.douban.com/subject/30316475/comments/', 'https://book.douban.com/subject/3006581/comments/', 'https://book.douban.com/subject/2143732/comments/', 'https://book.douban.com/subject/1400705/comments/', 'https://book.douban.com/subject/1019568/comments/', 'https://book.douban.com/subject/1040211/comments/', 'https://book.douban.com/subject/1008988/comments/', 'https://book.douban.com/subject/1119522/comments/', 'https://book.douban.com/subject/3239549/comments/', 'https://book.douban.com/subject/1254588/comments/', 'https://book.douban.com/subject/1071241/comments/', 'https://book.douban.com/subject/1432596/comments/', 'https://book.douban.com/subject/1080370/comments/', 'https://book.douban.com/subject/26853356/comments/', 'https://book.douban.com/subject/1022060/comments/', 'https://book.douban.com/subject/1449351/comments/', 'https://book.douban.com/subject/1002299/comments/', 'https://book.douban.com/subject/6879500/comments/', 'https://book.douban.com/subject/1209899/comments/', 'https://book.douban.com/subject/1059419/comments/', 'https://book.douban.com/subject/1043815/comments/', 'https://book.douban.com/subject/1014278/comments/', 'https://book.douban.com/subject/26963321/comments/', 'https://book.douban.com/subject/1865089/comments/', 'https://book.douban.com/subject/1205054/comments/', 'https://book.douban.com/subject/3266609/comments/', 'https://book.douban.com/subject/30276134/comments/', 'https://book.douban.com/subject/4742918/comments/', 'https://book.douban.com/subject/3393172/comments/', 'https://book.douban.com/subject/1009257/comments/', 'https://book.douban.com/subject/25745773/comments/', 'https://book.douban.com/subject/24934182/comments/', 'https://book.douban.com/subject/1060852/comments/', 'https://book.douban.com/subject/1948901/comments/', 'https://book.douban.com/subject/1316648/comments/', 'https://book.douban.com/subject/1013380/comments/', 'https://book.douban.com/subject/1963684/comments/', 'https://book.douban.com/subject/25898626/comments/', 'https://book.douban.com/subject/3136271/comments/', 'https://book.douban.com/subject/30337614/comments/', 'https://book.douban.com/subject/26425831/comments/', 'https://book.douban.com/subject/4039903/comments/', 'https://book.douban.com/subject/26935435/comments/', 'https://book.douban.com/subject/1013129/comments/', 'https://book.douban.com/subject/6880158/comments/', 'https://book.douban.com/subject/1336330/comments/', 'https://book.douban.com/subject/1039487/comments/', 'https://book.douban.com/subject/27069925/comments/', 'https://book.douban.com/subject/1088065/comments/', 'https://book.douban.com/subject/1066462/comments/', 'https://book.douban.com/subject/30224833/comments/', 'https://book.douban.com/subject/27104959/comments/', 'https://book.douban.com/subject/30302069/comments/', 'https://book.douban.com/subject/7060185/comments/', 'https://book.douban.com/subject/10608315/comments/', 'https://book.douban.com/subject/22023679/comments/', 'https://book.douban.com/subject/5337248/comments/', 'https://book.douban.com/subject/1003000/comments/', 'https://book.douban.com/subject/3674537/comments/', 'https://book.douban.com/subject/30301376/comments/', 'https://book.douban.com/subject/25976544/comments/', 'https://book.douban.com/subject/30318719/comments/', 'https://book.douban.com/subject/26672693/comments/', 'https://book.douban.com/subject/26278687/comments/', 'https://book.douban.com/subject/3633461/comments/', 'https://book.douban.com/subject/2159042/comments/', 'https://book.douban.com/subject/30237176/comments/', 'https://book.douban.com/subject/4760224/comments/', 'https://book.douban.com/subject/1346815/comments/', 'https://book.douban.com/subject/26647769/comments/', 'https://book.douban.com/subject/4240543/comments/', 'https://book.douban.com/subject/26923390/comments/', 'https://book.douban.com/subject/1863930/comments/', 'https://book.douban.com/subject/1398395/comments/', 'https://book.douban.com/subject/6388661/comments/', 'https://book.douban.com/subject/1085470/comments/', 'https://book.douban.com/subject/27611173/comments/', 'https://book.douban.com/subject/1013416/comments/', 'https://book.douban.com/subject/3013903/comments/', 'https://book.douban.com/subject/1192090/comments/', 'https://book.douban.com/subject/1044547/comments/', 'https://book.douban.com/subject/1424741/comments/', 'https://book.douban.com/subject/3406401/comments/', 'https://book.douban.com/subject/25829693/comments/', 'https://book.douban.com/subject/26905155/comments/', 'https://book.douban.com/subject/1818347/comments/', 'https://book.douban.com/subject/1213546/comments/', 'https://book.douban.com/subject/1051193/comments/', 'https://book.douban.com/subject/27029890/comments/', 'https://book.douban.com/subject/26414020/comments/', 'https://book.douban.com/subject/26896530/comments/', 'https://book.douban.com/subject/26757680/comments/', 'https://book.douban.com/subject/1401425/comments/', 'https://book.douban.com/subject/1005521/comments/', 'https://book.douban.com/subject/1291809/comments/', 'https://book.douban.com/subject/3014576/comments/', 'https://book.douban.com/subject/10517238/comments/', 'https://book.douban.com/subject/1007433/comments/', 'https://book.douban.com/subject/30296432/comments/', 'https://book.douban.com/subject/30275097/comments/', 'https://book.douban.com/subject/6789605/comments/', 'https://book.douban.com/subject/30324808/comments/', 'https://book.douban.com/subject/3803820/comments/', 'https://book.douban.com/subject/1080309/comments/', 'https://book.douban.com/subject/24754316/comments/', 'https://book.douban.com/subject/2035171/comments/', 'https://book.douban.com/subject/3017857/comments/', 'https://book.douban.com/subject/1092335/comments/', 'https://book.douban.com/subject/30345416/comments/', 'https://book.douban.com/subject/2340100/comments/', 'https://book.douban.com/subject/1029111/comments/', 'https://book.douban.com/subject/1029553/comments/', 'https://book.douban.com/subject/30299534/comments/', 'https://book.douban.com/subject/1043008/comments/', 'https://book.douban.com/subject/6811366/comments/', 'https://book.douban.com/subject/30316746/comments/', 'https://book.douban.com/subject/26434970/comments/', 'https://book.douban.com/subject/27079479/comments/', 'https://book.douban.com/subject/3537590/comments/', 'https://book.douban.com/subject/1082349/comments/', 'https://book.douban.com/subject/1253310/comments/', 'https://book.douban.com/subject/30358509/comments/', 'https://book.douban.com/subject/30206558/comments/', 'https://book.douban.com/subject/22714154/comments/', 'https://book.douban.com/subject/26951584/comments/', 'https://book.douban.com/subject/1858576/comments/', 'https://book.douban.com/subject/1418686/comments/', 'https://book.douban.com/subject/10555509/comments/', 'https://book.douban.com/subject/4842446/comments/', 'https://book.douban.com/subject/10564071/comments/', 'https://book.douban.com/subject/1082387/comments/', 'https://book.douban.com/subject/2136140/comments/', 'https://book.douban.com/subject/25796120/comments/', 'https://book.douban.com/subject/1143694/comments/', 'https://book.douban.com/subject/1292416/comments/', 'https://book.douban.com/subject/27194720/comments/', 'https://book.douban.com/subject/5916880/comments/', 'https://book.douban.com/subject/26864984/comments/', 'https://book.douban.com/subject/1020459/comments/', 'https://book.douban.com/subject/2022979/comments/', 'https://book.douban.com/subject/1036490/comments/', 'https://book.douban.com/subject/27077129/comments/', 'https://book.douban.com/subject/30335984/comments/', 'https://book.douban.com/subject/1036274/comments/', 'https://book.douban.com/subject/4123116/comments/', 'https://book.douban.com/subject/27010212/comments/', 'https://book.douban.com/subject/30284744/comments/', 'https://book.douban.com/subject/1203251/comments/', 'https://book.douban.com/subject/30301374/comments/', 'https://book.douban.com/subject/26210487/comments/', 'https://book.douban.com/subject/1882933/comments/', 'https://book.douban.com/subject/4714734/comments/', 'https://book.douban.com/subject/5958737/comments/', 'https://book.douban.com/subject/4011440/comments/', 'https://book.douban.com/subject/25924253/comments/', 'https://book.douban.com/subject/30382687/comments/', 'https://book.douban.com/subject/1008357/comments/', 'https://book.douban.com/subject/1391191/comments/', 'https://book.douban.com/subject/1062343/comments/', 'https://book.douban.com/subject/30330291/comments/', 'https://book.douban.com/subject/5431784/comments/', 'https://book.douban.com/subject/26340138/comments/', 'https://book.douban.com/subject/1013225/comments/', 'https://book.douban.com/subject/4231381/comments/', 'https://book.douban.com/subject/27091211/comments/', 'https://book.douban.com/subject/2297697/comments/', 'https://book.douban.com/subject/27114418/comments/', 'https://book.douban.com/subject/3131626/comments/', 'https://book.douban.com/subject/6973970/comments/', 'https://book.douban.com/subject/26324832/comments/', 'https://book.douban.com/subject/3920130/comments/', 'https://book.douban.com/subject/3808982/comments/', 'https://book.douban.com/subject/27108971/comments/', 'https://book.douban.com/subject/10522856/comments/', 'https://book.douban.com/subject/26657570/comments/', 'https://book.douban.com/subject/30324264/comments/', 'https://book.douban.com/subject/26889236/comments/', 'https://book.douban.com/subject/30293665/comments/', 'https://book.douban.com/subject/26840298/comments/', 'https://book.douban.com/subject/30301217/comments/', 'https://book.douban.com/subject/28656614/comments/', 'https://book.douban.com/subject/1529893/comments/', 'https://book.douban.com/subject/1258498/comments/', 'https://book.douban.com/subject/1070851/comments/', 'https://book.douban.com/subject/26578531/comments/', 'https://book.douban.com/subject/1440972/comments/', 'https://book.douban.com/subject/1006197/comments/', 'https://book.douban.com/subject/26630480/comments/', 'https://book.douban.com/subject/3523041/comments/', 'https://book.douban.com/subject/25774842/comments/', 'https://book.douban.com/subject/3391248/comments/', 'https://book.douban.com/subject/26295448/comments/', 'https://book.douban.com/subject/10774752/comments/', 'https://book.douban.com/subject/26695174/comments/']\n"
     ]
    }
   ],
   "source": [
    "print(url_list)"
   ]
  },
  {
   "cell_type": "markdown",
   "metadata": {},
   "source": [
    "#### Step3：请求访问每一个评论网页，并将所有的信息拼接"
   ]
  },
  {
   "cell_type": "code",
   "execution_count": 24,
   "metadata": {},
   "outputs": [],
   "source": [
    "##访问每一个评论网页\n",
    "data2=str()\n",
    "for i in url_list:\n",
    "    r=requests.get(url=i,headers=headers)\n",
    "    data1=r.text\n",
    "    data2=data2+data1\n",
    "    time.sleep(1)"
   ]
  },
  {
   "cell_type": "markdown",
   "metadata": {},
   "source": [
    "#### Step4：解析网页"
   ]
  },
  {
   "cell_type": "code",
   "execution_count": 25,
   "metadata": {},
   "outputs": [],
   "source": [
    "selector3=etree.HTML(data2)"
   ]
  },
  {
   "cell_type": "code",
   "execution_count": 26,
   "metadata": {},
   "outputs": [],
   "source": [
    "users=[]\n",
    "stars=[]\n",
    "comment_texts=[]\n",
    "#遍历\n",
    "comments=selector3.xpath('//div[@class=\"comment\"]')\n",
    "for comment in comments:\n",
    "    \n",
    "    user = comment.xpath(\".//h3/span[2]/a/text()\")[0]\n",
    "    star = comment.xpath(\".//h3/span[2]/span[1]/@class\")\n",
    "    comment_text = comment.xpath(\".//p[@class='comment-content']/span/text()\")[0].strip()\n",
    "    \n",
    "    users.append(user)\n",
    "    stars.append(star)\n",
    "    comment_texts.append(comment_text)\n",
    "comment_dic = {'user':users , 'srar':stars , 'comments':comment_texts} "
   ]
  },
  {
   "cell_type": "markdown",
   "metadata": {},
   "source": [
    "#### Step4：整理数据"
   ]
  },
  {
   "cell_type": "markdown",
   "metadata": {},
   "source": [
    "###### 注：\n",
    ">这一部分有一点小问题，因为每一个页面只出现了一次书名，所以所以没有办法和其他的信息一一匹配，所以这里强制处理了一下，让每一个书名都重复了与评论个数相同的次数（20）\n",
    ">但这个方法没法推广，仍待改进"
   ]
  },
  {
   "cell_type": "code",
   "execution_count": 27,
   "metadata": {},
   "outputs": [
    {
     "name": "stdout",
     "output_type": "stream",
     "text": [
      "['月亮与六便士 短评', '活着 短评', '红楼梦 短评', '追风筝的人 短评', '三体全集 短评', '杀死一只知更鸟 短评', '人间失格 短评', '百年孤独 短评', '白夜行 短评', '小王子 短评', '活着 短评', '霍乱时期的爱情 短评', '解忧杂货店 短评', '围城 短评', '三体Ⅲ 短评', '三体 短评', '我的天才女友 短评', '红楼梦 短评', '4 3 2 1 短评', '嫌疑人X的献身 短评', '美丽新世界 短评', '1984 短评', '房思琪的初恋乐园 短评', '杀死一只知更鸟 短评', '平凡的世界（全三部） 短评', '云边有个小卖部 短评', '月亮和六便士 短评', '万历十五年 短评', '三体Ⅱ 短评', '我们仨 短评', '朝花夕拾 短评', '茨威格文集 短评', '飘 短评', '局外人 短评', '撒哈拉的故事 短评', '不能承受的生命之轻 短评', '沉默的大多数 短评', '月亮和六便士 短评', '新名字的故事 短评', '人间失格 短评', '傲慢与偏见 短评', '哈利·波特与魔法石 短评', '许三观卖血记 短评', '挪威的森林 短评', '明朝那些事儿（壹） 短评', '白夜行 短评', '巨人的陨落 短评', '边城 短评', '天才在左 疯子在右 短评', '那不勒斯故事四部曲 短评', '月亮和六便士 短评', '无中生有 短评', '基督山伯爵 短评', '东方快车谋杀案 短评', '恶意 短评', '黄金时代 短评', '动物农场 短评', '马尔多罗之歌 短评', '漫长的告别 短评', '无人生还 短评', '灿烂千阳 短评', '情人 短评', '三国演义（全二册） 短评', '福尔摩斯探案全集（上中下） 短评', '了不起的盖茨比 短评', '呼啸山庄 短评', '夹边沟记事 短评', '城南旧事 短评', '哈利·波特与阿兹卡班的囚徒 短评', '哈利·波特与混血王子 短评', '情书 短评', '鱼王 短评', '狼图腾 短评', '呐喊 短评', '笑傲江湖（全四册） 短评', '明朝那些事儿.第6部,日暮西山 短评', '我与地坛 短评', '海边的卡夫卡 短评', '骆驼祥子 短评', '红玫瑰与白玫瑰 短评', '步履不停 短评', '瓦尔登湖 短评', '悲惨世界（上中下） 短评', '流浪地球 短评', '邦查女孩 短评', '1Q84 BOOK 1 短评', '哈利.波特-(珍藏版)(全七册) 短评', '哈利·波特与火焰杯 短评', '呐喊 短评', '一个人的朝圣 短评', '呼兰河传 短评', '盗墓笔记 短评', '查令十字街84号 短评', '茶花女 短评', '半生缘 短评', '鲁迅全集 短评', '罗生门 短评', '是梦 短评', '斯通纳 短评', '王小波全集（第六卷 中篇小说） 短评', '大裂 短评', '哈利·波特与凤凰社 短评', '陆犯焉识 短评', '冰与火之歌（卷一） 短评', '哈利·波特与密室 短评', '不可思议的朋友 短评', '阿Q正传 短评', '向左走·向右走 短评', '圣殿春秋 短评', '离开的，留下的 短评', '有人在周围走动 短评', '江城 短评', '华氏451 短评', '汉尼拔 短评', '台北人 短评', '悟空传 短评', '明朝那些事儿（1-9） 短评', '企鹅经典：小黑书 第一辑 短评', '故事 短评', '电幻国度 短评', '一个叫欧维的男人决定去死 短评', '皮囊 短评', '一句顶一万句 短评', '挪威的森林 短评', '十九年间谋杀小叙 短评', '许三观卖血记 短评', '一個人住第5年 短评', '人间失格 短评', '一九八四 短评', '长夜难明 短评', '看不见的城市 短评', '狂人日记 短评', '这些人，那些事 短评', '海底两万里 短评', '我忏悔 短评', '雷雨 短评', '漫长的告别 短评', '球状闪电 短评', '射雕英雄传（全四册） 短评', '心是孤独的猎手 短评', '悉达多 短评', '永恒的终结 短评', '九故事 短评', '尼罗河上的惨案 短评', '变形记 短评', '麦琪的礼物 短评', '外婆的道歉信 短评', '我不喜欢这世界，我只喜欢你 短评', '美丽与哀愁 短评', '面纱 短评', '兄弟（上） 短评', '伊豆的舞女 短评', '世界尽头与冷酷仙境 短评', '陪安东尼度过漫长岁月 短评', '平凡的世界 短评', '红与黑 短评', '猴子·罗汉池 短评', '凝视太阳 短评', '树上的男爵 短评', '变化的位面 短评', '人生 短评', '尘埃落定 短评', '最好的我们 短评', '人生的枷锁 短评', '金锁记 短评', '教父 短评', '铁浆 短评', '遇见未知的自己 短评', '哭泣的骆驼 短评', '西游记（全二册） 短评', '婚姻中的陌生人 短评', '格林童话全集 短评', '禅与摩托车维修艺术 短评', '面具后的女人 短评', '智利之夜 短评', '南方高速 短评', '朗读者 短评', '长恨歌 短评', '人间草木 短评', '南荣家的越 短评', '日本未来时 短评', '繁花 短评', '小说课 短评', '一九八四 短评', '红拂夜奔 短评', '看不见的城市 短评', '巨流河 短评', '白鹿原 短评', '一九八四·动物农场 短评', '雨季不再来 短评', '小径分岔的花园 短评', '动物凶猛 短评', '香水 短评', '追寻逝去的时光·第一卷：去斯万家那边 短评', '华胥引（全二册） 短评', '金色梦乡 短评', '此间的少年 短评', '喜宝 短评', '万水千山走遍 短评', '华氏451 短评', '棠棣王朝 短评', '夏洛的网 短评', '月亮和六便士 短评', '芳华 短评', '伯纳黛特，你要去哪 短评', '雾都孤儿 短评', '愚人学校 短评', '强风吹拂 短评', '鬼吹灯之精绝古城 短评', '这些都是你给我的爱 短评', '尤利西斯 短评', '最初的爱情 最后的仪式 短评', '嫌疑人X的献身 短评', '度外 短评', '水浒传（全二册） 短评', '京华烟云 短评', '昨日的世界 短评', '时间中的孩子 短评', '雪落香杉树 短评', '岛上书店 短评', '生活在别处 短评', '那些回不去的年少时光 短评', '罗生门 短评', 'ZOO 短评', '活下去的理由 短评', '荒原狼 短评', '人间失格 短评', '西线无战事 短评', '告白 短评', '动物庄园 短评', '游隼 短评', '冬牧场 短评', '活着为了讲述 短评', '天边一星子 短评', '我的职业是小说家 短评', '另一个世界的倒影 短评', '无人生还 短评', '大唐悬疑录：最后的狄仁杰 短评', '山茶文具店 短评', '莲花 短评', '项链 短评', '倚天屠龙记(共四册) 短评', '这里的黎明静悄悄…… 短评', '博尔赫斯小说集 短评', '哈姆莱特 短评', '毒木圣经 短评', '平凡的世界（全三册） 短评', '弗兰肯斯坦 短评', '金阁寺 短评', '你一生的故事 短评', '毛姆短篇小说精选集 短评', '灯塔 短评']\n"
     ]
    }
   ],
   "source": [
    "bookname = selector3.xpath('//*[@id=\"content\"]/h1/text()')\n",
    "print(bookname)"
   ]
  },
  {
   "cell_type": "code",
   "execution_count": 28,
   "metadata": {},
   "outputs": [
    {
     "name": "stdout",
     "output_type": "stream",
     "text": [
      "['月亮与六便士 短评' '月亮与六便士 短评' '月亮与六便士 短评' ... '灯塔 短评' '灯塔 短评' '灯塔 短评']\n"
     ]
    }
   ],
   "source": [
    "##每一页都有20个评论\n",
    "bookname=np.array(bookname)\n",
    "bookname=bookname.repeat(20)\n",
    "print(bookname)"
   ]
  },
  {
   "cell_type": "code",
   "execution_count": 29,
   "metadata": {},
   "outputs": [
    {
     "data": {
      "text/plain": [
       "[array(['月亮与六便士 短评', '月亮与六便士 短评', '月亮与六便士 短评', ..., '灯塔 短评', '灯塔 短评',\n",
       "        '灯塔 短评'], dtype='<U21')]"
      ]
     },
     "execution_count": 29,
     "metadata": {},
     "output_type": "execute_result"
    }
   ],
   "source": [
    "type(bookname)\n",
    "[bookname]"
   ]
  },
  {
   "cell_type": "code",
   "execution_count": 30,
   "metadata": {},
   "outputs": [],
   "source": [
    "##拼接\n",
    "comments_df = pd.DataFrame(comment_dic)"
   ]
  },
  {
   "cell_type": "code",
   "execution_count": 31,
   "metadata": {},
   "outputs": [],
   "source": [
    "bookname_df= pd.DataFrame(bookname)"
   ]
  },
  {
   "cell_type": "code",
   "execution_count": 33,
   "metadata": {},
   "outputs": [],
   "source": [
    "df=bookname_df.join(comments_df)"
   ]
  },
  {
   "cell_type": "code",
   "execution_count": 34,
   "metadata": {},
   "outputs": [],
   "source": [
    "##导入进excel\n",
    "df.to_excel('d:\\\\comments2.xlsx')"
   ]
  },
  {
   "cell_type": "markdown",
   "metadata": {},
   "source": [
    "## 四、总结\n",
    ">1、应用lxml库感觉会比BS方便一些，因为它是一个xpath的形式，可以迅速的定位                                         \n",
    ">2、由于每次访问页面都会耗费时间，所以应该考虑找一群代理，提高速度，避免IP被封                                    \n",
    ">3、最后的爬取中，每一本书只爬取了一个页面上的评论，可以考虑嵌套循环，找到更多页面的评论（因为速度太慢和书名不好处理，所以没有进行这一步操作）                                                                                     \n",
    ">4、整体的代码写的都很简单也比较笨，应该有便捷的方法来进行改进"
   ]
  }
 ],
 "metadata": {
  "kernelspec": {
   "display_name": "Python 3",
   "language": "python",
   "name": "python3"
  },
  "language_info": {
   "codemirror_mode": {
    "name": "ipython",
    "version": 3
   },
   "file_extension": ".py",
   "mimetype": "text/x-python",
   "name": "python",
   "nbconvert_exporter": "python",
   "pygments_lexer": "ipython3",
   "version": "3.6.5"
  },
  "widgets": {
   "application/vnd.jupyter.widget-state+json": {
    "state": {},
    "version_major": 2,
    "version_minor": 0
   }
  }
 },
 "nbformat": 4,
 "nbformat_minor": 2
}
